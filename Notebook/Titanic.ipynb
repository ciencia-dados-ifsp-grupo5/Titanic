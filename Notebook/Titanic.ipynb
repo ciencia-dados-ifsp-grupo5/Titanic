{
 "cells": [
  {
   "cell_type": "markdown",
   "id": "70852ca2",
   "metadata": {},
   "source": [
    "# Titanic - Machine Learning from Disaster\n",
    "\n",
    "**D2APR: Aprendizado de Máquina e Reconhecimento de Padrões**\n",
    "\n",
    "Especialização em Ciência de Dados - IFSP Campinas\n",
    "\n",
    "Alunos\n",
    "- Daniel Vargas Shimamoto\n",
    "- Diego Machado de Assis"
   ]
  },
  {
   "cell_type": "markdown",
   "id": "a6c9dcbb",
   "metadata": {},
   "source": [
    "## 1. Informações Gerais\n",
    "\n",
    "### 1.1. Contexto do problema"
   ]
  },
  {
   "cell_type": "code",
   "execution_count": null,
   "id": "cedf2cf8",
   "metadata": {},
   "outputs": [],
   "source": []
  }
 ],
 "metadata": {
  "kernelspec": {
   "display_name": "Python 3",
   "language": "python",
   "name": "python3"
  },
  "language_info": {
   "codemirror_mode": {
    "name": "ipython",
    "version": 3
   },
   "file_extension": ".py",
   "mimetype": "text/x-python",
   "name": "python",
   "nbconvert_exporter": "python",
   "pygments_lexer": "ipython3",
   "version": "3.8.8"
  }
 },
 "nbformat": 4,
 "nbformat_minor": 5
}
